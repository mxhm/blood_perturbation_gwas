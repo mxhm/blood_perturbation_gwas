{
 "cells": [
  {
   "cell_type": "code",
   "execution_count": null,
   "metadata": {},
   "outputs": [],
   "source": [
    "import pandas as pd\n",
    "import numpy as np\n",
    "import statsmodels.formula.api as smf\n",
    "import statsmodels.api as sm\n",
    "import os\n",
    "\n",
    "from sklearn.preprocessing import StandardScaler\n",
    "\n",
    "from tqdm.auto import tqdm\n",
    "from blood_response.gwas_preprocessing import pheno_quantile_transform"
   ]
  },
  {
   "cell_type": "markdown",
   "metadata": {},
   "source": [
    "## Sysmex traits"
   ]
  },
  {
   "cell_type": "code",
   "execution_count": null,
   "metadata": {},
   "outputs": [],
   "source": [
    "sel_traits_df = pd.read_csv('/mnt/obi0/phi/gwas/gwas_analyses/sysmex_custom_gates_v9-obi2020_10_28/trait_count_clumps_gated_quantile.tsv', sep='\\t')\n",
    "\n",
    "# adjust the trait names slightly\n",
    "sel_traits_df['trait2'] = sel_traits_df.trait.str.replace('-q', '')\n",
    "sel_traits_df['trait2'] = sel_traits_df.trait2.str.replace('plt-f', 'pltf')"
   ]
  },
  {
   "cell_type": "code",
   "execution_count": null,
   "metadata": {},
   "outputs": [],
   "source": [
    "sysmex_pheno = pd.read_parquet('/mnt/obi0/phi/gwas/gwas_analyses/sysmex_custom_gates_v9-obi2020_10_28/all_pheno_projected_filtered_median_wide.parquet')\n",
    "\n",
    "# rename the columns\n",
    "sysmex_pheno.columns = [c[1].split('_')[0] + '|' + c[0] + '|' + '_'.join(c[1].split('_')[1:]) for c in sysmex_pheno.columns]\n",
    "selected_phenotypes = sysmex_pheno[sel_traits_df.trait2]\n",
    "selected_phenotypes_analysis_hours = sysmex_pheno.iloc[:, 0:37]\n",
    "selected_phenotypes_analysis_hours.columns = [c.split(\"|\")[1]  for c in selected_phenotypes_analysis_hours.columns]"
   ]
  },
  {
   "cell_type": "code",
   "execution_count": null,
   "metadata": {},
   "outputs": [],
   "source": [
    "steroids = pd.read_parquet('/mnt/obi0/phi/ehr/obi_biobank_annotations/steroid_obi_30d_21-07-06.parquet')\n",
    "transplant = pd.read_parquet('/mnt/obi0/phi/ehr/obi_biobank_annotations/transplant_with_lvad_21-07-06.parquet')\n",
    "\n",
    "any_steroid_medication = steroids.set_index('PatientID').sum(axis=1).reset_index()\n",
    "any_steroid_medication = any_steroid_medication.loc[any_steroid_medication[0] > 0].PatientID\n",
    "any_transplant = transplant.loc[transplant.transplant].PatientID"
   ]
  },
  {
   "cell_type": "code",
   "execution_count": null,
   "metadata": {},
   "outputs": [],
   "source": [
    "selected_phenotypes_notransplant = selected_phenotypes.loc[\n",
    "    ~selected_phenotypes.index.isin(any_transplant)\n",
    "]\n",
    "selected_phenotypes_notransplant_nosteroid = selected_phenotypes.loc[\n",
    "    (~selected_phenotypes.index.isin(any_transplant)) &\n",
    "    (~selected_phenotypes.index.isin(any_steroid_medication))\n",
    "]"
   ]
  },
  {
   "cell_type": "code",
   "execution_count": null,
   "metadata": {},
   "outputs": [],
   "source": [
    "# specify the cohort for association tests below\n",
    "model_phenotypes = selected_phenotypes_notransplant"
   ]
  },
  {
   "cell_type": "code",
   "execution_count": null,
   "metadata": {},
   "outputs": [],
   "source": [
    "# covariates\n",
    "covariates =  pd.read_parquet(\"/mnt/obi0/phi/ehr/obi_biobank_annotations/covariates_21-07-06.parquet\")\n",
    "covariates = covariates[[\"PatientID\", \"is_male\", \"Race\", \"rc_consent_age\"]]"
   ]
  },
  {
   "cell_type": "code",
   "execution_count": null,
   "metadata": {},
   "outputs": [],
   "source": [
    "bmp = pd.read_parquet(\"/mnt/obi0/phi/ehr/obi_biobank_annotations/labs_bmp_21-07-06.parquet\")\n",
    "cmp = pd.read_parquet(\"/mnt/obi0/phi/ehr/obi_biobank_annotations/labs_cmp_21-07-06.parquet\")\n",
    "ecg = pd.read_parquet(\"/mnt/obi0/phi/ehr/obi_biobank_annotations/labs_ecg_21-07-06.parquet\")\n",
    "lipids = pd.read_parquet(\"/mnt/obi0/phi/ehr/obi_biobank_annotations/labs_lp_21-07-06.parquet\")"
   ]
  },
  {
   "cell_type": "code",
   "execution_count": null,
   "metadata": {},
   "outputs": [],
   "source": [
    "# standardize the lab traits so that beta is comparable\n",
    "labs = pd.concat([bmp, cmp, ecg, lipids], axis=1)\n",
    "labs_standardized = pd.DataFrame(StandardScaler().fit_transform(labs),\n",
    "                                 index=labs.index,\n",
    "                                 columns=labs.columns).reset_index()"
   ]
  },
  {
   "cell_type": "code",
   "execution_count": null,
   "metadata": {},
   "outputs": [],
   "source": [
    "# quantile transform all blood traits\n",
    "model_phenotypes_quantile = pheno_quantile_transform(model_phenotypes, model_phenotypes.columns)"
   ]
  },
  {
   "cell_type": "code",
   "execution_count": null,
   "metadata": {},
   "outputs": [],
   "source": [
    "results_list = []\n",
    "\n",
    "for lab in tqdm(labs_standardized.columns.values[1:]):\n",
    "    for pheno in tqdm(model_phenotypes_quantile.columns.values, leave=False):\n",
    "        channel = pheno.split(\"|\")[0]\n",
    "        perturbation = pheno.split(\"|\")[1]\n",
    "        regdf = model_phenotypes_quantile[[pheno]]\n",
    "        pheno = pheno.replace(\"|\",\"_\").replace(\" \",\"_\").replace(\".\",\"_\")\n",
    "        regdf.columns = ['sysmex']\n",
    "        analysis_h = selected_phenotypes_analysis_hours[[perturbation]].rename({perturbation :\"draw_analysis_hours\"}, axis='columns')\n",
    "        regdf = regdf.merge(\n",
    "                            covariates, left_index = True, right_on = \"PatientID\"\n",
    "                     ).merge(\n",
    "                         labs_standardized[[lab, \"PatientID\"]], on = \"PatientID\"\n",
    "                    ).merge(analysis_h, on = \"PatientID\")\n",
    "        formula_str = lab + \"~ sysmex + rc_consent_age + Race + is_male + draw_analysis_hours\"\n",
    "        #try:\n",
    "        results = smf.ols(formula=formula_str, data=regdf).fit()\n",
    "\n",
    "        params = pd.DataFrame(results.params).T\n",
    "        params = params.rename(columns = {c : 'beta_' +  c for c in params.columns})\n",
    "        tscores = pd.DataFrame(results.tvalues).T\n",
    "        tscores = tscores.rename(columns = {c : 't_' +  c for c in tscores.columns})\n",
    "        pvalues = pd.DataFrame(results.pvalues).T\n",
    "        pvalues = pvalues.rename(columns = {p : 'p_' +  p for p in pvalues.columns})\n",
    "\n",
    "        results_list.append(\n",
    "            pd.concat([pd.DataFrame.from_records([{\n",
    "                'channel': channel,\n",
    "                'ptb_name': perturbation,\n",
    "                'sysmex_pheno': pheno,\n",
    "                'lab': lab,\n",
    "                'n_cases': regdf.loc[~regdf.sysmex.isna(), lab].count(),\n",
    "                'n_total': results.nobs,\n",
    "                    }]),\n",
    "                pvalues,\n",
    "                tscores,\n",
    "                params,\n",
    "                ], axis=1))\n",
    "#         except:\n",
    "#             pass   # Ignore perfect separation cases"
   ]
  },
  {
   "cell_type": "code",
   "execution_count": null,
   "metadata": {},
   "outputs": [],
   "source": [
    "results_df = pd.concat(results_list)\n",
    "results_df = results_df.sort_values(\"p_sysmex\")\n",
    "results_df.to_csv(\"/mnt/obi0/phi/gwas/gwas_analyses/sysmex_custom_gates_v9-obi2020_10_28/clumps_gated_quantile_lab_regression_notransplant_21-07-06_quantile_with_counts.csv\", index = False)"
   ]
  }
 ],
 "metadata": {
  "kernelspec": {
   "display_name": "Python 3 (ipykernel)",
   "language": "python",
   "name": "python3"
  },
  "language_info": {
   "codemirror_mode": {
    "name": "ipython",
    "version": 3
   },
   "file_extension": ".py",
   "mimetype": "text/x-python",
   "name": "python",
   "nbconvert_exporter": "python",
   "pygments_lexer": "ipython3",
   "version": "3.10.9"
  }
 },
 "nbformat": 4,
 "nbformat_minor": 4
}
