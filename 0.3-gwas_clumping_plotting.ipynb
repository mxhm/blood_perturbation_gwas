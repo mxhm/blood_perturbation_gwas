{
 "cells": [
  {
   "cell_type": "code",
   "execution_count": null,
   "metadata": {},
   "outputs": [],
   "source": [
    "%load_ext autoreload\n",
    "%autoreload 2"
   ]
  },
  {
   "cell_type": "code",
   "execution_count": null,
   "metadata": {},
   "outputs": [],
   "source": [
    "import os\n",
    "from pathlib import Path\n",
    "import shutil\n",
    "import configparser\n",
    "import pandas as pd\n",
    "from tqdm.auto import tqdm\n",
    "import matplotlib.pyplot as plt\n",
    "from pylab import *\n",
    "import numpy as np\n",
    "\n",
    "# load environment variables\n",
    "from dotenv import load_dotenv, find_dotenv\n",
    "dotenv_path = find_dotenv()\n",
    "load_dotenv(dotenv_path)\n",
    "\n",
    "pd.set_option('display.max_rows', 500)\n",
    "pd.set_option('display.max_columns', 500)\n",
    "pd.set_option('display.width', 1000)\n",
    "\n",
    "#from sysmex.perturbations import Perturbation\n",
    "from blood_response.utils import lz4_load\n",
    "from blood_response.fujiplot import prepare_fuji_input"
   ]
  },
  {
   "cell_type": "markdown",
   "metadata": {},
   "source": [
    "# read in top pval files"
   ]
  },
  {
   "cell_type": "code",
   "execution_count": null,
   "metadata": {},
   "outputs": [],
   "source": [
    "analyses_root = '/mnt/obi0/phi/gwas/gwas_analyses/sysmex_custom_gates_v9-obi2020_10_28/'"
   ]
  },
  {
   "cell_type": "code",
   "execution_count": null,
   "metadata": {},
   "outputs": [],
   "source": [
    "# # read in the top pvalues for all perturbations and channels\n",
    "# pval_cutoff = '1e-7'\n",
    "# all_pvals_concat = list()\n",
    "# for ptb_path in tqdm(list((Path(analyses_root) / 'gwas/').glob('*/*/*'))):\n",
    "#     channel = ptb_path.parent.parent.name\n",
    "#     dataset = ptb_path.parent.name\n",
    "#     ptb_name = ptb_path.name\n",
    "#     for phenotype_pvals in tqdm(list(ptb_path.glob(f'*toppvals.{pval_cutoff}.tsv')), leave=False):\n",
    "#         covariates, trait = phenotype_pvals.name.split('.')[0:2]\n",
    "#         pvals = pd.read_csv(phenotype_pvals, sep='\\t')\n",
    "#         pvals['channel'] = channel\n",
    "#         pvals['dataset'] = dataset\n",
    "#         pvals['ptb_name'] = ptb_name\n",
    "#         pvals['gwas_dataset'] = 'obi2020_10_28'\n",
    "#         pvals['covariates'] = covariates\n",
    "#         pvals['trait'] = trait\n",
    "#         all_pvals_concat.append(pvals)\n",
    "\n",
    "#all_pvals_concat_df.to_parquet(f'{analyses_root}/toppvals.with_nigericin_ret.1e-7.parquet')\n",
    "\n",
    "# # drop the RET channel results for Nigericin, since they had poor gate alignment\n",
    "# # 004, 005, 006, 021, 035, 037\n",
    "# all_pvals_concat_df = all_pvals_concat_df.loc[~(\n",
    "#     (all_pvals_concat_df.channel == 'ret') &\n",
    "#     (all_pvals_concat_df.trait.str.contains('RBC1|RBC2|RET1|RET2')) &\n",
    "#     (all_pvals_concat_df.ptb_name.str.contains('Nigericin'))\n",
    "# )]\n",
    "# all_pvals_concat_df.to_parquet(f'{analyses_root}/toppvals.1e-7.parquet')"
   ]
  },
  {
   "cell_type": "code",
   "execution_count": null,
   "metadata": {},
   "outputs": [],
   "source": [
    "all_pvals_concat_df = pd.read_parquet(f'{analyses_root}/toppvals.1e-7.parquet')\n",
    "\n",
    "chr_counts = all_pvals_concat_df.loc[all_pvals_concat_df.P <= 1e-7].\\\n",
    "groupby(['dataset', 'channel', 'ptb_name', 'trait', 'covariates'])['#CHROM'].\\\n",
    "nunique().reset_index(name='chr_ct')\n",
    "\n",
    "# a lot of DB, NRBC, UK hits scattered across chromosomes - not using these\n",
    "#chr_counts.sort_values('chr_ct').tail(n=50)\n",
    "\n",
    "all_pvals_concat_df = all_pvals_concat_df.merge(chr_counts)\n",
    "all_pvals_concat_df['projected'] = all_pvals_concat_df.trait.str.contains('umap|pica|pca')\n",
    "\n",
    "all_pvals_concat_q = all_pvals_concat_df.loc[all_pvals_concat_df.trait.str.endswith('-q')]\n",
    "gated_pvals_concat = all_pvals_concat_df.loc[~all_pvals_concat_df.projected]\n",
    "gated_pvals_concat_q = all_pvals_concat_df.loc[all_pvals_concat_df.trait.str.endswith('-q') &\n",
    "                                               ~all_pvals_concat_df.projected]\n",
    "projected_pvals_concat = all_pvals_concat_df.loc[all_pvals_concat_df.projected]\n",
    "projected_pvals_concat_q = all_pvals_concat_df.loc[all_pvals_concat_df.trait.str.endswith('-q') &\n",
    "                                                   all_pvals_concat_df.projected]\n",
    "\n",
    "# drop any trait with less than 250 samples\n",
    "gated_pvals_concat_q = gated_pvals_concat_q.loc[gated_pvals_concat_q.OBS_CT >= 250]\n",
    "\n",
    "# write out a files of hits meeting minimum filtering criteria\n",
    "hits = all_pvals_concat_df.\\\n",
    "loc[all_pvals_concat_df.P <= 5e-8].\\\n",
    "groupby(['dataset', 'channel', 'ptb_name', 'trait', 'covariates']).\\\n",
    "size().reset_index(name='ct')"
   ]
  },
  {
   "cell_type": "markdown",
   "metadata": {},
   "source": [
    "### clump across trait files"
   ]
  },
  {
   "cell_type": "code",
   "execution_count": null,
   "metadata": {},
   "outputs": [],
   "source": [
    "\n",
    "!mkdir -p {analyses_root}/clumping/gated_quantile_2307/"
   ]
  },
  {
   "cell_type": "code",
   "execution_count": null,
   "metadata": {},
   "outputs": [],
   "source": [
    "def clump_pvals(pval_concat, name):\n",
    "    # remove traits that are very often only noise (Ghost/debris)\n",
    "    pval_concat_filtered_df = pval_concat.loc[~pval_concat.trait.str.match('Ghost|DB1|DB2|NRBC')]\n",
    "\n",
    "    # this clumps and annotates all hits (quantile and normal traits)\n",
    "    for trait in tqdm(pval_concat.trait.unique()):\n",
    "        pval_concat.loc[pval_concat.trait == trait].\\\n",
    "        rename(columns={\n",
    "            '#CHROM': 'CHR',\n",
    "            'POS': 'BP',\n",
    "            'ID': 'SNP'\n",
    "        }). \\\n",
    "        to_csv(f'{analyses_root}/clumping/{name}/{trait}.assoc', sep='\\t', index=False)\n",
    "\n",
    "    trait_files = ','.join([x + '.assoc' for x in pval_concat_filtered_df.trait.unique()])\n",
    "\n",
    "    # clump all results separately\n",
    "    ! cd {analyses_root}/clumping/{name}; plink --bfile /mnt/obi0/phi/gwas/obi_gwas/runs/2020_10_28/imputed_plus_biobank/imputed_merged --clump-range /mnt/obi0/phi/gwas/misc_data/plink_annotations/glist-hg19 --clump-p1 0.00000005 --clump-p2 0.00000005 --clump-replicate --clump {trait_files} --out clumped_5e8\n",
    "    clumped = pd.read_csv(f'{analyses_root}/clumping/{name}/clumped_5e8.clumped', delim_whitespace=True).rename(columns={'P': 'P_clump'})\n",
    "    clumped_ranges = pd.read_csv(f'{analyses_root}/clumping/{name}/clumped_5e8.clumped.ranges', delim_whitespace=True).\\\n",
    "    rename(columns={'P': 'P_range', 'N': 'N_range', 'POS': 'POS_range'})\n",
    "    clumped = clumped.merge(clumped_ranges)\n",
    "    annotated_clumps = pval_concat_filtered_df. \\\n",
    "    merge(clumped, left_on='ID', right_on='SNP')\n",
    "    annotated_clumps.to_excel(f'{analyses_root}/clumps_{name}_long.xlsx')\n",
    "    \n",
    "    snp_traits = pval_concat_filtered_df.groupby('ID').traitname.apply(list).reset_index()\n",
    "    clumps_df = clumped.merge(snp_traits, left_on='SNP', right_on='ID')\n",
    "    obs_cts = gated_pvals_concat_q.sort_values('P')[['ID', 'OBS_CT']].groupby('ID').head(1).reset_index()\n",
    "    clumps_df = clumps_df.merge(obs_cts)\n",
    "    clumps_df.sort_values(['CHR', 'BP']).to_csv(f'{analyses_root}/clumps_{name}.tsv', sep='\\t', index=False)\n",
    "    clumps_df.sort_values(['CHR', 'BP']).to_excel(f'{analyses_root}/clumps_{name}.xlsx')\n",
    "    \n",
    "    return clumps_df, annotated_clumps"
   ]
  },
  {
   "cell_type": "code",
   "execution_count": null,
   "metadata": {},
   "outputs": [],
   "source": [
    "clumps_gated_quantile, annotated_clumps_gated_quantile = clump_pvals(gated_pvals_concat_q, 'gated_quantile_2307')"
   ]
  },
  {
   "cell_type": "code",
   "execution_count": null,
   "metadata": {},
   "outputs": [],
   "source": [
    "# Total genotyping rate is 0.977969.\n",
    "# 8658943 variants and 3283 people pass filters and QC.\n",
    "# Note: No phenotypes present.\n",
    "# --clump: 119 clumps formed from 3502 top variants.\n",
    "# Results written to clumped_5e8.clumped .\n",
    "# --clump-range: Clump/region overlaps reported in clumped_5e8.clumped.ranges ."
   ]
  },
  {
   "cell_type": "code",
   "execution_count": null,
   "metadata": {},
   "outputs": [],
   "source": [
    "! mkdir -p {analyses_root}/circos/"
   ]
  },
  {
   "cell_type": "code",
   "execution_count": null,
   "metadata": {},
   "outputs": [],
   "source": [
    "# replace genes to define ranges (DEFA1-DEFA10P), or merge separate labels (RNASE2,RNASE3)\n",
    "# also add | characters when long label sets should be split into separate annotations\n",
    "# then use the split_genes='|' parameter to add additional rows\n",
    "rename_genes = {\n",
    "    'SLC38A3': 'GNAT1,SEMA3F,SLC38A3',\n",
    "    'CACNA2D3': 'CACNA2D3,ARHGEF3',\n",
    "    'ARHGEF3': 'CACNA2D3,ARHGEF3',\n",
    "    'TLR10': 'TLR1,TLR6,TLR10',\n",
    "    'FAM114A1,MIR574,TLR6': 'FAM114A1,MIR574',\n",
    "    'FAM114A1,MIR574,TLR1,TLR6,TLR10': 'FAM114A1,MIR574|TLR1,TLR6,TLR10',\n",
    "    'FAM114A1': 'FAM114A1,MIR574',\n",
    "    'CASP3': 'CASP3,CENPU,PRIMPOL',\n",
    "    'ACSL1': 'ACSL1,SLED1',\n",
    "    'DFNA5': 'DFNA5,OSBPL3',\n",
    "    'OSBPL3': 'DFNA5,OSBPL3',\n",
    "    'RNASE2': 'RNASE2,RNASE3',\n",
    "    'RNASE3': 'RNASE2,RNASE3',\n",
    "    'HFE,HIST1H1A,HIST1H1C,HIST1H2AB,HIST1H2BB,HIST1H3A,HIST1H3B,HIST1H3C,HIST1H4A,HIST1H4B,SLC17A2,SLC17A3,TRIM38':\n",
    "    'HFE|HIST1H1A-HIST1H4B|SLC17A2,SLC17A3,TRIM38',\n",
    "    'DEFA1,DEFA1B,DEFA8P,DEFA9P,DEFA10P': 'DEFA1-DEFA10P',\n",
    "    'DEFA8P': 'DEFA1-DEFA10P',\n",
    "    'DEFA10P': 'DEFA1-DEFA10P',\n",
    "    'CYB561D2,GNAI2,HYAL1,HYAL2,HYAL3,IFRD2,LSMEM2,MIR6872,NAT6,NPRL2,RASSF1,RASSF1-AS1,SEMA3B,SEMA3B-AS1,TUSC2,ZMYND10':\n",
    "    'CYB561D2,GNAI2,HYAL1-3|IFRD2,LSMEM2,MIR6872|NAT6,NPRL2,RASSF1|SEMA3B,TUSC2,ZMYND10',\n",
    "    'CDHR4,FAM212A,IP6K1,MIR5193,UBA7': 'CDHR4,FAM212A|IP6K1,MIR5193,UBA7'\n",
    "}"
   ]
  },
  {
   "cell_type": "code",
   "execution_count": null,
   "metadata": {},
   "outputs": [],
   "source": [
    "# sorting by p-value and showing top hits per locus and cell_type / condition\n",
    "cell_gated_quantile_traitlist_p, cell_gated_quantile_input_p, _  = prepare_fuji_input(\n",
    "    plot_clumps = annotated_clumps_gated_quantile,\n",
    "    category = 'cell_type',\n",
    "    filename = 'gated_quantile_all_joint_pvalue_2307',\n",
    "    analyses_root = analyses_root,\n",
    "    empty_ranges=True,\n",
    "    split_genes='|',\n",
    "    rename_genes=rename_genes,\n",
    "    sort_traits='pvalue'\n",
    ")"
   ]
  },
  {
   "cell_type": "code",
   "execution_count": null,
   "metadata": {},
   "outputs": [],
   "source": [
    "!cd ~/projects/fujiplot; /usr/bin/Rscript fujiplot.R {analyses_root}/circos/input_cell_type_gated_quantile_all_joint_pvalue_2307.txt {analyses_root}/circos/traitlist_cell_type_gated_quantile_all_joint_pvalue_2307.txt {analyses_root}/circos/output/gated_quantile_all_joint_pvalue_2307"
   ]
  },
  {
   "cell_type": "code",
   "execution_count": null,
   "metadata": {},
   "outputs": [],
   "source": [
    "ptb_gated_quantile_traitlist_p, ptb_gated_quantile_input_p, _ = prepare_fuji_input(\n",
    "    plot_clumps = annotated_clumps_gated_quantile,\n",
    "    category = 'ptb_name',\n",
    "    filename = 'gated_quantile_all_joint_pvalue_2307',\n",
    "    analyses_root = analyses_root,\n",
    "    empty_ranges=True,\n",
    "    rename_genes=rename_genes,\n",
    "    split_genes='|',\n",
    "    sort_traits='pvalue'\n",
    ")\n",
    "_"
   ]
  },
  {
   "cell_type": "code",
   "execution_count": null,
   "metadata": {
    "scrolled": false
   },
   "outputs": [],
   "source": [
    "!cd ~/projects/fujiplot_rev; /usr/bin/Rscript fujiplot.R {analyses_root}/circos/input_ptb_name_gated_quantile_all_joint_pvalue_2307.txt {analyses_root}/circos/traitlist_ptb_name_gated_quantile_all_joint_pvalue_2307.txt {analyses_root}/circos/output/ptb_name_gated_quantile_all_joint_pvalue_2307"
   ]
  },
  {
   "cell_type": "code",
   "execution_count": null,
   "metadata": {},
   "outputs": [],
   "source": [
    "## annotate clumps with information from CADD/SnpEff"
   ]
  },
  {
   "cell_type": "code",
   "execution_count": null,
   "metadata": {},
   "outputs": [],
   "source": [
    "clumps_df = \\\n",
    "pd.read_csv(\n",
    "    '/mnt/obi0/phi/gwas/gwas_analyses/sysmex_custom_gates_v9-obi2020_10_28/clumps_gated_quantile_2206.tsv',\n",
    "    sep='\\t'\n",
    ")\n",
    "\n",
    "clumps_df = clumps_df.sort_values(['CHR', 'BP'])\n",
    "\n",
    "# for each SNP, summarize the top BETA coefficients and p-value\n",
    "gated_pvals_concat_q['ABS_BETA'] = gated_pvals_concat_q.BETA.abs()\n",
    "\n",
    "# keep top 3 hits by BETA coeff for each SNP\n",
    "top_gated_pvals_concat_q = \\\n",
    "gated_pvals_concat_q.\\\n",
    "sort_values(by=['ABS_BETA', 'P'], ascending=[False, True]).\\\n",
    "groupby('ID').\\\n",
    "head(n=5)\n",
    "\n",
    "# top_gated_pvals_concat_q.\\\n",
    "# loc[~top_gated_pvals_concat_q.trait.str.startswith('NRBC')]\\\n",
    "# .head(n=20)"
   ]
  },
  {
   "cell_type": "code",
   "execution_count": null,
   "metadata": {},
   "outputs": [],
   "source": [
    "from biothings_client import get_client\n",
    "mv = get_client(\"variant\")\n",
    "\n",
    "from functools import lru_cache\n",
    "\n",
    "lru_cache(1024)\n",
    "def get_var_info(row):\n",
    "    ref, alt = row.SNP.split(':')[-2:]\n",
    "    var_str = f'chr{row.CHR}:g.{row.BP}{ref}>{alt}'\n",
    "    var_annot = mv.getvariant(var_str)\n",
    "    if var_annot is None:\n",
    "        var_annot = mv.getvariant(f'chr{row.CHR}:g.{row.BP}{alt}>{ref}')\n",
    "    if var_annot is None:\n",
    "        print(f'Failed to resolve: {var_str}')\n",
    "    return var_annot\n",
    "    \n",
    "\n",
    "var_annotations = dict()\n",
    "\n",
    "for i, row in tqdm(clumps_df.iterrows()):\n",
    "    var_annotations[row.ID] = get_var_info(row)\n",
    "\n",
    "key_lists = [list(v.keys()) for v in var_annotations.values()]"
   ]
  },
  {
   "cell_type": "code",
   "execution_count": null,
   "metadata": {},
   "outputs": [],
   "source": [
    "from glom import *\n",
    "\n",
    "annot_dict = {}\n",
    "# subset annotations to fields of interest\n",
    "for variant in var_annotations.keys():\n",
    "    \n",
    "    res = glom(\n",
    "        var_annotations[variant], \n",
    "        {\n",
    "            'rsid': ('dbsnp.rsid'),\n",
    "            'cadd_cons': (Coalesce('cadd.consdetail', default=None)),\n",
    "            'cadd_gene': (Coalesce('cadd.gene', default=None)),\n",
    "            'snpeff': (Coalesce('snpeff.ann', default=None)),\n",
    "            'clinvar': (Coalesce('clinvar.rcv', default=None)),\n",
    "            'grasp': (Coalesce('grasp.publication', default=None)),\n",
    "            #'gwassnps': (Coalesce('gwassnps', default=None)),\n",
    "        }\n",
    "    )\n",
    "    annot_dict[variant] = res\n",
    "\n",
    "annotation_df = pd.DataFrame.from_dict(annot_dict, orient='Index')"
   ]
  },
  {
   "cell_type": "code",
   "execution_count": null,
   "metadata": {},
   "outputs": [],
   "source": [
    "annotation_df"
   ]
  },
  {
   "cell_type": "code",
   "execution_count": null,
   "metadata": {},
   "outputs": [],
   "source": [
    "import requests\n",
    "import json\n",
    "\n",
    "lru_cache(1024)\n",
    "def get_open_targets_variant(x):\n",
    "    \n",
    "    query_string = \\\n",
    "    \"\"\"\n",
    "    query useSearchToConvertRSIDIntoIDFormat($variantId: String!) {\n",
    "      search(queryString:$variantId){\n",
    "        totalVariants\n",
    "        variants{\n",
    "          id\n",
    "        }\n",
    "      }\n",
    "    }\n",
    "    \"\"\"\n",
    "    \n",
    "    #variables = {\"variantId\": x['rsID']}\n",
    "    variant_id = x['rsid']\n",
    "    variables = {\"variantId\": variant_id}\n",
    "    base_url = \"https://api.genetics.opentargets.org/graphql\"\n",
    "    print(variant_id)\n",
    "    print(variables)\n",
    "    r = requests.post(base_url, json={\"query\": query_string, \"variables\": variables})\n",
    "    print(r.status_code)\n",
    "    api_response = json.loads(r.text)\n",
    "    #return api_response\n",
    "    if len(api_response['data']['search']['variants']) > 1:\n",
    "        print(f'Warning: {variant_id}')\n",
    "    return api_response['data']['search']['variants'][0]['id']\n",
    "    \n",
    "\n",
    "annotation_df['otid'] = annotation_df.apply(get_open_targets_variant, axis=1)"
   ]
  },
  {
   "cell_type": "code",
   "execution_count": null,
   "metadata": {},
   "outputs": [],
   "source": [
    "clumps_df_annot = clumps_df.merge(annotation_df, left_on='ID', right_index=True)\n",
    "clumps_df_annot['open_targets'] = clumps_df_annot.otid.apply(lambda x: f'=HYPERLINK(\"https://genetics.opentargets.org/variant/{x}\", \"{x}\")')\n"
   ]
  },
  {
   "cell_type": "code",
   "execution_count": null,
   "metadata": {},
   "outputs": [],
   "source": [
    "clumps_df_annot.drop([\n",
    "    'F', 'CHR', 'BP', 'N_range', 'NSIG', 'S05', 'S01', 'S001', 'S0001', 'P_range',\n",
    "    'ID', 'otid'\n",
    "], axis=1).\\\n",
    "rename(columns={\n",
    "    'TOTAL': 'Count',\n",
    "    'RANGES': 'Genes',\n",
    "    'traitname': 'Traits',\n",
    "    'SNP': 'Lead_SNP',\n",
    "    'SP2': 'SNPs'\n",
    "}).\\\n",
    "to_excel(\n",
    "    '/mnt/obi0/phi/gwas/gwas_analyses/sysmex_custom_gates_v9-obi2020_10_28/clumps_gated_quantile_2206_annotated.xlsx',\n",
    "    index=False,\n",
    ")"
   ]
  },
  {
   "cell_type": "code",
   "execution_count": null,
   "metadata": {},
   "outputs": [],
   "source": [
    "clumps_annotated_df = clumps_df_annot.drop([\n",
    "    'F', 'CHR', 'BP', 'N_range', 'NSIG', 'S05', 'S01', 'S001', 'S0001', 'P_range',\n",
    "    'ID', 'otid'\n",
    "], axis=1).\\\n",
    "rename(columns={\n",
    "    'TOTAL': 'Count',\n",
    "    'RANGES': 'Genes',\n",
    "    'traitname': 'Traits',\n",
    "    'SNP': 'Lead_SNP',\n",
    "    'SP2': 'SNPs'\n",
    "})"
   ]
  },
  {
   "cell_type": "code",
   "execution_count": null,
   "metadata": {},
   "outputs": [],
   "source": [
    "clumps_annotated_df.loc[clumps_annotated_df.P_clump <= 5e-10].\\\n",
    "to_excel(\n",
    "    '/mnt/obi0/phi/gwas/gwas_analyses/sysmex_custom_gates_v9-obi2020_10_28/clumps_gated_quantile_2206_annotated_5e10.xlsx',\n",
    "    index=False,\n",
    ")"
   ]
  }
 ],
 "metadata": {
  "kernelspec": {
   "display_name": "Python 3 (ipykernel)",
   "language": "python",
   "name": "python3"
  },
  "language_info": {
   "codemirror_mode": {
    "name": "ipython",
    "version": 3
   },
   "file_extension": ".py",
   "mimetype": "text/x-python",
   "name": "python",
   "nbconvert_exporter": "python",
   "pygments_lexer": "ipython3",
   "version": "3.10.9"
  },
  "pycharm": {
   "stem_cell": {
    "cell_type": "raw",
    "metadata": {
     "collapsed": false
    },
    "source": []
   }
  }
 },
 "nbformat": 4,
 "nbformat_minor": 4
}
